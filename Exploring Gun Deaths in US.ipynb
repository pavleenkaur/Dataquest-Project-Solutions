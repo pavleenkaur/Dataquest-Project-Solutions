{
 "cells": [
  {
   "cell_type": "markdown",
   "metadata": {},
   "source": [
    "## Introducing US Gun Deaths Dataset"
   ]
  },
  {
   "cell_type": "code",
   "execution_count": 2,
   "metadata": {
    "collapsed": false
   },
   "outputs": [
    {
     "name": "stdout",
     "output_type": "stream",
     "text": [
      "[['', 'year', 'month', 'intent', 'police', 'sex', 'age', 'race', 'hispanic', 'place', 'education'], ['1', '2012', '01', 'Suicide', '0', 'M', '34', 'Asian/Pacific Islander', '100', 'Home', '4'], ['2', '2012', '01', 'Suicide', '0', 'F', '21', 'White', '100', 'Street', '3'], ['3', '2012', '01', 'Suicide', '0', 'M', '60', 'White', '100', 'Other specified', '4'], ['4', '2012', '02', 'Suicide', '0', 'M', '64', 'White', '100', 'Home', '4']]\n"
     ]
    }
   ],
   "source": [
    "import csv\n",
    "file = open(\"guns.csv\",'r')\n",
    "data = list(csv.reader(file))\n",
    "print(data[:5])"
   ]
  },
  {
   "cell_type": "markdown",
   "metadata": {},
   "source": [
    "## Removing Headers"
   ]
  },
  {
   "cell_type": "code",
   "execution_count": 3,
   "metadata": {
    "collapsed": false
   },
   "outputs": [
    {
     "name": "stdout",
     "output_type": "stream",
     "text": [
      "[['1', '2012', '01', 'Suicide', '0', 'M', '34', 'Asian/Pacific Islander', '100', 'Home', '4'], ['2', '2012', '01', 'Suicide', '0', 'F', '21', 'White', '100', 'Street', '3'], ['3', '2012', '01', 'Suicide', '0', 'M', '60', 'White', '100', 'Other specified', '4'], ['4', '2012', '02', 'Suicide', '0', 'M', '64', 'White', '100', 'Home', '4'], ['5', '2012', '02', 'Suicide', '0', 'M', '31', 'White', '100', 'Other specified', '2']]\n"
     ]
    }
   ],
   "source": [
    "headers = data[1:]\n",
    "print(headers[:5])"
   ]
  },
  {
   "cell_type": "markdown",
   "metadata": {},
   "source": [
    "## Counting Gun Deaths of each year"
   ]
  },
  {
   "cell_type": "code",
   "execution_count": 4,
   "metadata": {
    "collapsed": false
   },
   "outputs": [
    {
     "name": "stdout",
     "output_type": "stream",
     "text": [
      "{'2013': 33636, '2014': 33599, '2012': 33563}\n"
     ]
    }
   ],
   "source": [
    "year_count = {}\n",
    "for item in headers:\n",
    "    if item[1] in year_count:\n",
    "        year_count[item[1]] += 1\n",
    "    else:\n",
    "        year_count[item[1]] = 1\n",
    "    \n",
    "print (year_count)"
   ]
  },
  {
   "cell_type": "markdown",
   "metadata": {},
   "source": [
    "## Exploring Gun Deaths by Month and Year"
   ]
  },
  {
   "cell_type": "code",
   "execution_count": 5,
   "metadata": {
    "collapsed": false
   },
   "outputs": [],
   "source": [
    "import datetime\n",
    "dates = []\n",
    "for item in headers:\n",
    "    dates.append(datetime.datetime(year = int(item[1]), month = int(item[2]), day = 1))"
   ]
  },
  {
   "cell_type": "code",
   "execution_count": 6,
   "metadata": {
    "collapsed": false
   },
   "outputs": [],
   "source": [
    "date_counts = {}\n",
    "for item in dates:\n",
    "    if item in date_counts:\n",
    "        date_counts[item] += 1\n",
    "    else:\n",
    "        date_counts[item] = 1"
   ]
  },
  {
   "cell_type": "code",
   "execution_count": 7,
   "metadata": {
    "collapsed": false
   },
   "outputs": [
    {
     "name": "stdout",
     "output_type": "stream",
     "text": [
      "{datetime.datetime(2014, 1, 1, 0, 0): 2651, datetime.datetime(2013, 1, 1, 0, 0): 2864, datetime.datetime(2013, 9, 1, 0, 0): 2742, datetime.datetime(2012, 4, 1, 0, 0): 2795, datetime.datetime(2014, 3, 1, 0, 0): 2684, datetime.datetime(2014, 12, 1, 0, 0): 2857, datetime.datetime(2012, 12, 1, 0, 0): 2791, datetime.datetime(2013, 3, 1, 0, 0): 2862, datetime.datetime(2012, 7, 1, 0, 0): 3026, datetime.datetime(2014, 11, 1, 0, 0): 2756, datetime.datetime(2014, 9, 1, 0, 0): 2914, datetime.datetime(2013, 8, 1, 0, 0): 2859, datetime.datetime(2014, 5, 1, 0, 0): 2864, datetime.datetime(2013, 4, 1, 0, 0): 2798, datetime.datetime(2013, 10, 1, 0, 0): 2808, datetime.datetime(2012, 11, 1, 0, 0): 2729, datetime.datetime(2012, 9, 1, 0, 0): 2852, datetime.datetime(2014, 4, 1, 0, 0): 2862, datetime.datetime(2012, 8, 1, 0, 0): 2954, datetime.datetime(2013, 7, 1, 0, 0): 3079, datetime.datetime(2014, 10, 1, 0, 0): 2865, datetime.datetime(2014, 8, 1, 0, 0): 2970, datetime.datetime(2012, 3, 1, 0, 0): 2743, datetime.datetime(2014, 2, 1, 0, 0): 2361, datetime.datetime(2012, 1, 1, 0, 0): 2758, datetime.datetime(2013, 11, 1, 0, 0): 2758, datetime.datetime(2012, 6, 1, 0, 0): 2826, datetime.datetime(2012, 2, 1, 0, 0): 2357, datetime.datetime(2013, 12, 1, 0, 0): 2765, datetime.datetime(2014, 7, 1, 0, 0): 2884, datetime.datetime(2013, 5, 1, 0, 0): 2806, datetime.datetime(2013, 6, 1, 0, 0): 2920, datetime.datetime(2012, 5, 1, 0, 0): 2999, datetime.datetime(2013, 2, 1, 0, 0): 2375, datetime.datetime(2014, 6, 1, 0, 0): 2931, datetime.datetime(2012, 10, 1, 0, 0): 2733}\n"
     ]
    }
   ],
   "source": [
    "print(date_counts)"
   ]
  },
  {
   "cell_type": "markdown",
   "metadata": {},
   "source": [
    "## Exploring Gun Deaths based on Sex "
   ]
  },
  {
   "cell_type": "code",
   "execution_count": 8,
   "metadata": {
    "collapsed": false
   },
   "outputs": [
    {
     "name": "stdout",
     "output_type": "stream",
     "text": [
      "{'M': 86349, 'F': 14449}\n"
     ]
    }
   ],
   "source": [
    "sex_count = {}\n",
    "for item in headers:\n",
    "    if item[5] in sex_count:\n",
    "        sex_count[item[5]] += 1\n",
    "    else:\n",
    "        sex_count[item[5]] = 1\n",
    "    \n",
    "print (sex_count)"
   ]
  },
  {
   "cell_type": "markdown",
   "metadata": {},
   "source": [
    "## Exploring Gun Deaths based on Race"
   ]
  },
  {
   "cell_type": "code",
   "execution_count": 9,
   "metadata": {
    "collapsed": false
   },
   "outputs": [
    {
     "name": "stdout",
     "output_type": "stream",
     "text": [
      "{'White': 66237, 'Hispanic': 9022, 'Black': 23296, 'Native American/Native Alaskan': 917, 'Asian/Pacific Islander': 1326}\n"
     ]
    }
   ],
   "source": [
    "race_count = {}\n",
    "for item in headers:\n",
    "    if item[7] in race_count:\n",
    "        race_count[item[7]] += 1\n",
    "    else:\n",
    "        race_count[item[7]] = 1\n",
    "    \n",
    "print (race_count)"
   ]
  },
  {
   "cell_type": "markdown",
   "metadata": {},
   "source": [
    "#### Findings so far\n",
    "Gun deaths in the US seem to disproportionately affect men vs women. They also seem to disproportionately affect minorities, although having some data on the percentage of each race in the overall US population would help.\n",
    "\n",
    "There appears to be a minor seasonal correlation, with gun deaths peaking in the summer and declining in the winter. It might be useful to filter by intent, to see if different categories of intent have different correlations with season, race, or gender."
   ]
  },
  {
   "cell_type": "markdown",
   "metadata": {},
   "source": [
    "## Referring to a new Dataset"
   ]
  },
  {
   "cell_type": "code",
   "execution_count": 10,
   "metadata": {
    "collapsed": false
   },
   "outputs": [],
   "source": [
    "file = open(\"census.csv\",'r')\n",
    "census = list(csv.reader(file))\n"
   ]
  },
  {
   "cell_type": "code",
   "execution_count": 11,
   "metadata": {
    "collapsed": false
   },
   "outputs": [],
   "source": [
    "new_census = census[1:]"
   ]
  },
  {
   "cell_type": "markdown",
   "metadata": {},
   "source": [
    "## Computing Rates Of Gun Deaths Per Race"
   ]
  },
  {
   "cell_type": "code",
   "execution_count": 12,
   "metadata": {
    "collapsed": true
   },
   "outputs": [],
   "source": [
    "race = {}\n",
    "race[\"Asian/Pacific Islander\"] = 15834141\n",
    "race[\"Black\"] = 40250635\n",
    "race[\"Native American/Native Alaskan\"] = 3739506\n",
    "race[\"Hispanic\"] = 44618105\n",
    "race[\"White\"] = 197318956\n"
   ]
  },
  {
   "cell_type": "code",
   "execution_count": 13,
   "metadata": {
    "collapsed": false
   },
   "outputs": [],
   "source": [
    "race_per_hundredk={}\n",
    "for key,value in race_count.items():\n",
    "    race_per_hundredk[key] = (race_count[key]/race[key])*100000"
   ]
  },
  {
   "cell_type": "code",
   "execution_count": 14,
   "metadata": {
    "collapsed": false
   },
   "outputs": [
    {
     "name": "stdout",
     "output_type": "stream",
     "text": [
      "{'White': 33.56849303419181, 'Hispanic': 20.220491210910907, 'Asian/Pacific Islander': 8.374309664161762, 'Native American/Native Alaskan': 24.521955573811088, 'Black': 57.8773477735196}\n"
     ]
    }
   ],
   "source": [
    "print(race_per_hundredk)"
   ]
  },
  {
   "cell_type": "markdown",
   "metadata": {},
   "source": [
    "## Filtering By Intent - Homicide"
   ]
  },
  {
   "cell_type": "code",
   "execution_count": null,
   "metadata": {
    "collapsed": true
   },
   "outputs": [],
   "source": [
    "hom_count = {}\n",
    "for item in headers:\n",
    "    if item[7] in hom_count:\n",
    "        if item[3]==\"Homicide\":\n",
    "            hom_count[item[7]] += 1\n",
    "    else:\n",
    "        hom_count[item[7]] = 1\n",
    "    \n",
    "race_per_hundredk = {}\n",
    "for key,value in hom_count.items():\n",
    "    race_per_hundredk[key] = (hom_count[key]/race[key]) * 100000\n",
    "\n",
    "print (race_per_hundredk)"
   ]
  },
  {
   "cell_type": "markdown",
   "metadata": {
    "collapsed": true
   },
   "source": [
    "### Findings\n",
    "It appears that gun related homicides in the US disproportionately affect people in the Black and Hispanic racial categories.\n",
    "\n",
    "Some areas to investigate further:\n\n",
    "The link between month and homicide rate.\n\n",
    "Homicide rate by gender.\n\n",
    "The rates of other intents by gender and race.\n\n",
    "Gun death rates by location and education."
   ]
  },
  {
   "cell_type": "code",
   "execution_count": null,
   "metadata": {
    "collapsed": true
   },
   "outputs": [],
   "source": []
  }
 ],
 "metadata": {
  "kernelspec": {
   "display_name": "Python [conda root]",
   "language": "python",
   "name": "conda-root-py"
  },
  "language_info": {
   "codemirror_mode": {
    "name": "ipython",
    "version": 2
   },
   "file_extension": ".py",
   "mimetype": "text/x-python",
   "name": "python",
   "nbconvert_exporter": "python",
   "pygments_lexer": "ipython2",
   "version": "2.7.12"
  }
 },
 "nbformat": 4,
 "nbformat_minor": 0
}
